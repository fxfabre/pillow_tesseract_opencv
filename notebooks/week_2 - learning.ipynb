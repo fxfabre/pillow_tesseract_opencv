{
 "cells": [
  {
   "cell_type": "markdown",
   "metadata": {},
   "source": [
    "## Lecture: The (Py)Tesseract Library"
   ]
  },
  {
   "cell_type": "code",
   "execution_count": null,
   "metadata": {
    "colab": {},
    "colab_type": "code",
    "id": "B0P4ehjER8bq"
   },
   "outputs": [],
   "source": [
    "import PIL\n",
    "from PIL import Image\n",
    "from PIL import ImageChops\n",
    "import pytesseract\n",
    "\n",
    "import string\n",
    "from pathlib import Path\n",
    "from IPython.display import display"
   ]
  },
  {
   "cell_type": "code",
   "execution_count": null,
   "metadata": {},
   "outputs": [],
   "source": [
    "# OCR clean image\n",
    "\n",
    "text_image = Image.open(\"/app/readonly/text.png\")\n",
    "display(text_image)\n",
    "\n",
    "text = pytesseract.image_to_string(text_image)\n",
    "print(text)"
   ]
  },
  {
   "cell_type": "code",
   "execution_count": null,
   "metadata": {},
   "outputs": [],
   "source": [
    "# greyscale\n",
    "\n",
    "noisy_img = Image.open(\"/app/readonly/Noisy_OCR.PNG\")\n",
    "display(noisy_img)\n",
    "text = pytesseract.image_to_string(noisy_img)\n",
    "print(text)\n",
    "\n",
    "img = noisy_img.convert('L')\n",
    "display(img)\n",
    "text = pytesseract.image_to_string(img)\n",
    "print(text)"
   ]
  },
  {
   "cell_type": "code",
   "execution_count": null,
   "metadata": {},
   "outputs": [],
   "source": [
    "# binarization - thresholding\n",
    "\n",
    "noisy_img = Image.open(\"/app/readonly/Noisy_OCR.PNG\")\n",
    "img = noisy_img.convert('1')\n",
    "display(img)"
   ]
  },
  {
   "cell_type": "code",
   "execution_count": null,
   "metadata": {},
   "outputs": [],
   "source": [
    "# binarization with custom threshold\n",
    "\n",
    "def binarize(image_to_transform, threshold):\n",
    "    return image_to_transform.convert('L').point(lambda x: 255 if x > threshold else 0, mode='1')\n",
    "\n",
    "for thresh in range(64, 256, 64):\n",
    "    print(\"Trying with threshold \" + str(thresh))\n",
    "    black_and_white = binarize(noisy_img)\n",
    "\n",
    "    display(black_and_white)\n",
    "    print(pytesseract.image_to_string(black_and_white))"
   ]
  },
  {
   "cell_type": "markdown",
   "metadata": {},
   "source": [
    "## Tesseract and Photographs"
   ]
  },
  {
   "cell_type": "code",
   "execution_count": null,
   "metadata": {},
   "outputs": [],
   "source": [
    "# OCR on a picture\n",
    "\n",
    "image = Image.open('/app/readonly/storefront.jpg')\n",
    "display(image)\n",
    "pytesseract.image_to_string(image).strip()"
   ]
  },
  {
   "cell_type": "code",
   "execution_count": null,
   "metadata": {},
   "outputs": [],
   "source": [
    "# Crop + OCR\n",
    "\n",
    "title_image = image.crop( (315, 170, 700, 270) )\n",
    "display(title_image)\n",
    "print(pytesseract.image_to_string(title_image).strip())\n",
    "\n",
    "little_sign = image.crop( (900, 420, 940, 445) )\n",
    "display(little_sign)\n",
    "pytesseract.image_to_string(little_sign).strip()"
   ]
  },
  {
   "cell_type": "code",
   "execution_count": null,
   "metadata": {},
   "outputs": [],
   "source": [
    "# Resize options\n",
    "\n",
    "new_size = (little_sign.width * 8, little_sign.height * 8)\n",
    "options=[Image.NEAREST, Image.BOX, Image.BILINEAR, Image.HAMMING, Image.BICUBIC, Image.LANCZOS]\n",
    "for option in options:\n",
    "    print(option)\n",
    "    display(little_sign.resize( new_size, option))"
   ]
  },
  {
   "cell_type": "code",
   "execution_count": null,
   "metadata": {},
   "outputs": [],
   "source": [
    "# binarize + OCR - Use a dictionnary to autodetect if text found has a meaning\n",
    "\n",
    "eng_words = set(Path(\"/app/readonly/words_alpha.txt\").read_text().split(\"\\n\"))\n",
    "for threshold in range(140, 160, 4):\n",
    "    black_white_image = binarize(bigger_sign, threshold)\n",
    "    #black_white_image = ImageChops.invert(black_white_image)\n",
    "    text = pytesseract.image_to_string(black_white_image).strip()\n",
    "    \n",
    "    # Normalize text : lowercase + remove non alphabetical characters, like ([%$])\n",
    "    clean_text = \"\".join(\n",
    "        character\n",
    "        for character in text.lower()\n",
    "        if character in string.ascii_lowercase\n",
    "    )\n",
    "\n",
    "    if clean_text in eng_words:\n",
    "        display(black_white_image)\n",
    "        print(threshold, clean_text)"
   ]
  },
  {
   "cell_type": "markdown",
   "metadata": {},
   "source": [
    "## Jupyter Widgets (Optional)"
   ]
  },
  {
   "cell_type": "code",
   "execution_count": null,
   "metadata": {},
   "outputs": [],
   "source": [
    "# Add sliders in the notebook to easily change a parameter of a function\n",
    "# The decorator will take a set of parameters which are identical to the function to be called.\n",
    "\n",
    "# If you would like to explore more you can read about what is available here: \n",
    "# https://ipywidgets.readthedocs.io/en/stable/examples/Using%20Interact.html\n",
    "\n",
    "from ipywidgets import interact\n",
    "\n",
    "image = Image.open('/app/readonly/storefront.jpg')\n",
    "\n",
    "@interact(left=100, top=100, right=200, bottom=200)\n",
    "def draw_border(left, top, right, bottom):\n",
    "    img = image.copy()\n",
    "    drawing_object = ImageDraw.Draw(img)\n",
    "    drawing_object.rectangle((left,top,right,bottom), fill = None, outline ='red')\n",
    "    display(img)"
   ]
  },
  {
   "cell_type": "code",
   "execution_count": null,
   "metadata": {},
   "outputs": [],
   "source": []
  }
 ],
 "metadata": {
  "colab": {
   "name": "Module 2.ipynb",
   "provenance": [],
   "version": "0.3.2"
  },
  "kernelspec": {
   "display_name": "Python 3",
   "language": "python",
   "name": "python3"
  },
  "language_info": {
   "codemirror_mode": {
    "name": "ipython",
    "version": 3
   },
   "file_extension": ".py",
   "mimetype": "text/x-python",
   "name": "python",
   "nbconvert_exporter": "python",
   "pygments_lexer": "ipython3",
   "version": "3.8.8"
  }
 },
 "nbformat": 4,
 "nbformat_minor": 2
}

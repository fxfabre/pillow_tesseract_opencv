{
 "cells": [
  {
   "cell_type": "markdown",
   "metadata": {
    "colab_type": "text",
    "id": "eQtiNRrFlYn0"
   },
   "source": [
    "## The Python Imaging Library (PIL)\n",
    "The Python Imaging Library, which is known as PIL or PILLOW, is the main library we use in python for dealing with image files.  \n",
    "https://pillow.readthedocs.io/en/latest/"
   ]
  },
  {
   "cell_type": "code",
   "execution_count": null,
   "metadata": {
    "colab": {},
    "colab_type": "code",
    "id": "EvBaW-wdlYn1"
   },
   "outputs": [],
   "source": [
    "import PIL\n",
    "from PIL import Image\n",
    "from PIL import ImageDraw\n",
    "from PIL import ImageFilter\n",
    "from PIL import ImageEnhance\n",
    "\n",
    "from IPython.display import display\n",
    "\n",
    "PIL.__version__"
   ]
  },
  {
   "cell_type": "code",
   "execution_count": null,
   "metadata": {
    "colab_type": "text",
    "id": "-RdgfWVBlYo-"
   },
   "outputs": [],
   "source": [
    "gif_image = Image.open(\"/app/readonly/msi_recruitment.gif\")\n",
    "print(f\"{gif_image.width} x {gif_image.height}\")\n",
    "print(gif_image)\n",
    "# gif_image.show()"
   ]
  },
  {
   "cell_type": "markdown",
   "metadata": {},
   "source": [
    "## Common Functions in the Python Imaging Library\n",
    "Lets take a look at some of the common tasks we can do in python using the pillow library."
   ]
  },
  {
   "cell_type": "code",
   "execution_count": null,
   "metadata": {},
   "outputs": [],
   "source": [
    "gif_image.save(\"msi_recruitment.png\")\n",
    "png = Image.open(\"msi_recruitment.png\")"
   ]
  },
  {
   "cell_type": "code",
   "execution_count": null,
   "metadata": {},
   "outputs": [],
   "source": [
    "# Flou\n",
    "\n",
    "# we have to convert the image to RGB mode. Images like gifs are limited in how many\n",
    "# colors can be displayed at once based on the size of the pallet.\n",
    "image = gif_image.convert('RGB')\n",
    "blurred_image = image.filter(PIL.ImageFilter.BLUR)\n",
    "display(blurred_image)"
   ]
  },
  {
   "cell_type": "code",
   "execution_count": null,
   "metadata": {},
   "outputs": [],
   "source": [
    "# Crop (left, up, right, donw)\n",
    "\n",
    "# With PIL images, we define the bounding box using the upper left corner and the lower right corner. And\n",
    "# we count the number of pixels out from the upper left corner, which is 0,0\n",
    "\n",
    "display(image.crop((46,0,188,143)))"
   ]
  },
  {
   "cell_type": "code",
   "execution_count": null,
   "metadata": {},
   "outputs": [],
   "source": [
    "# Draw on the image\n",
    "\n",
    "image = gif_image.convert('RGB')\n",
    "drawing_object = ImageDraw.Draw(image)\n",
    "drawing_object.rectangle((46 - 5,0,188 + 5,143 + 5), fill = None, outline = 'red')\n",
    "display(image)"
   ]
  },
  {
   "cell_type": "markdown",
   "metadata": {},
   "source": [
    "## Additional PILLOW functions\n",
    "Lets take a look at some other functions we might want to use in PILLOW to modify images."
   ]
  },
  {
   "cell_type": "code",
   "execution_count": null,
   "metadata": {},
   "outputs": [],
   "source": [
    "# Brightness\n",
    "\n",
    "image = gif_image.convert('RGB')\n",
    "enhancer = ImageEnhance.Brightness(image)\n",
    "images = [\n",
    "    enhancer.enhance(i/10)\n",
    "    for i in range(1, 10, 2)\n",
    "]\n",
    "\n",
    "images[:2]"
   ]
  },
  {
   "cell_type": "code",
   "execution_count": null,
   "metadata": {},
   "outputs": [],
   "source": [
    "# Create a new black image and paste inside our images + resize\n",
    "\n",
    "first_image = images[0]\n",
    "contact_sheet = PIL.Image.new(first_image.mode, (first_image.width, len(images) * first_image.height))\n",
    "\n",
    "current_location = 0\n",
    "for img in images:\n",
    "    contact_sheet.paste(img, (0, current_location) )\n",
    "    current_location = current_location + 450\n",
    "\n",
    "contact_sheet = contact_sheet.resize((contact_sheet.width // 5, contact_sheet.height // 5))\n",
    "display(contact_sheet)"
   ]
  }
 ],
 "metadata": {
  "colab": {
   "name": "Module 1.ipynb",
   "provenance": [],
   "version": "0.3.2"
  },
  "kernelspec": {
   "display_name": "Python 3",
   "language": "python",
   "name": "python3"
  },
  "language_info": {
   "codemirror_mode": {
    "name": "ipython",
    "version": 3
   },
   "file_extension": ".py",
   "mimetype": "text/x-python",
   "name": "python",
   "nbconvert_exporter": "python",
   "pygments_lexer": "ipython3",
   "version": "3.8.8"
  }
 },
 "nbformat": 4,
 "nbformat_minor": 2
}
